{
 "cells": [
  {
   "cell_type": "code",
   "execution_count": 19,
   "id": "d0f47821",
   "metadata": {},
   "outputs": [],
   "source": [
    "import pandas as pd\n",
    "\n",
    "import requests\n",
    "\n",
    "from bs4 import BeautifulSoup\n",
    "\n",
    "import numpy as np"
   ]
  },
  {
   "cell_type": "markdown",
   "id": "9e85c5d0",
   "metadata": {},
   "source": [
    "## Ссылки с открывающей страницы"
   ]
  },
  {
   "cell_type": "code",
   "execution_count": 14,
   "id": "a91f17d1",
   "metadata": {},
   "outputs": [],
   "source": [
    "url = 'https://outmaxshop.ru/snickers'\n",
    "\n",
    "data = requests.get(url).text\n",
    "\n",
    "soup_op = BeautifulSoup(data, 'html.parser')\n",
    "\n",
    "links_op = soup_op.find('div', {'class': 'catalog-product__list'}).find_all('a')\n",
    "\n",
    "links_op = [i['href'] for i in links_op]\n",
    "\n"
   ]
  },
  {
   "cell_type": "markdown",
   "id": "ba5d1093",
   "metadata": {},
   "source": [
    "## Функция, для получения ссылок на карточки товаров"
   ]
  },
  {
   "cell_type": "code",
   "execution_count": 8,
   "id": "634bef99",
   "metadata": {},
   "outputs": [],
   "source": [
    "def find_links(number):\n",
    "    url = 'https://outmaxshop.ru/snickers?start=' + str(number)\n",
    "    \n",
    "    data = requests.get(url).text\n",
    "\n",
    "    soup = BeautifulSoup(data, 'html.parser')\n",
    "    \n",
    "    a = soup.find('div', {'class': 'catalog-product__list'}).find_all('a')\n",
    "    \n",
    "    links = [i['href'] for i in a]\n",
    "    \n",
    "    return links"
   ]
  },
  {
   "cell_type": "markdown",
   "id": "930b57de",
   "metadata": {},
   "source": [
    "## Функция, для получения описания товара"
   ]
  },
  {
   "cell_type": "code",
   "execution_count": 9,
   "id": "95d08f14",
   "metadata": {},
   "outputs": [],
   "source": [
    "def find_description(soup):\n",
    "    b = soup.find('table', {'class': 'product-chars'})\n",
    "    c = soup.find('table', {'class': 'product-chars'})\n",
    "    if b is None or c is None:\n",
    "        return [np.nan] * 5\n",
    "    \n",
    "    b = b.find_all('td', {'class': 'product-chars__text'})\n",
    "    c = c.find_all('td', {'class': 'product-chars__name'}) \n",
    "    names = [(i.text).strip() for i in c]  \n",
    "    desc = [(i.text).strip() for i in b]\n",
    "    dic = {i: j for i,j in zip(names, desc)}\n",
    "    info = []\n",
    "    for i in ['Материал верха', 'Модель', 'Категория', 'Сезон', 'Цвет']:\n",
    "        if i in dic:\n",
    "            info.append(dic[i])\n",
    "        else:\n",
    "            info.append(np.nan)\n",
    "    \n",
    "    return info"
   ]
  },
  {
   "cell_type": "markdown",
   "id": "2f0ae5fa",
   "metadata": {},
   "source": [
    "## Функция для получения брэнда товара"
   ]
  },
  {
   "cell_type": "code",
   "execution_count": 10,
   "id": "4fe8235e",
   "metadata": {},
   "outputs": [],
   "source": [
    "def find_brand(soup):\n",
    "    brand = soup.find('a', {'class': 'product__brand'})\n",
    "    if brand is None:\n",
    "        return [np.nan]\n",
    "    else:\n",
    "        brand = brand.find_all('meta')\n",
    "        return [brand[0]['content']]"
   ]
  },
  {
   "cell_type": "markdown",
   "id": "998fd141",
   "metadata": {},
   "source": [
    "## Функция, для получения цен товара"
   ]
  },
  {
   "cell_type": "code",
   "execution_count": 11,
   "id": "d0e2c002",
   "metadata": {},
   "outputs": [],
   "source": [
    "def find_price(soup):\n",
    "    prices_old = (soup.find_all('div', {'class': 'product__price product__price--line'}))[0].text\n",
    "    prices_current = (soup.find_all('div', {'class': 'product__price product__price--red'}))[0].text\n",
    "\n",
    "    price_old = int((prices_old.strip()).replace('руб.', '').replace(' ', ''))\n",
    "    price_current = int((prices_current.strip()).replace('руб.', '').replace(' ', ''))\n",
    "    \n",
    "    prices = [price_old, price_current]\n",
    "    \n",
    "    return prices"
   ]
  },
  {
   "cell_type": "markdown",
   "id": "7bf48d7f",
   "metadata": {},
   "source": [
    "##  Функция, для получения размеров товара"
   ]
  },
  {
   "cell_type": "code",
   "execution_count": 12,
   "id": "e583a2f9",
   "metadata": {},
   "outputs": [],
   "source": [
    "def find_sizes(soup):\n",
    "    all_sizes = soup.find('div', {'class': 'product-size__container'}).find_all('span', 'radio_attr_label')\n",
    "    \n",
    "    fin_all_sizes = ','.join([i.text for i in all_sizes])\n",
    "\n",
    "    return [fin_all_sizes]"
   ]
  },
  {
   "cell_type": "markdown",
   "id": "843ed09f",
   "metadata": {},
   "source": [
    "## Функция для получения html-кода страницы"
   ]
  },
  {
   "cell_type": "code",
   "execution_count": 13,
   "id": "527dfaeb",
   "metadata": {},
   "outputs": [],
   "source": [
    "def get_the_soup(link):\n",
    "    url = 'https://outmaxshop.ru' + link\n",
    "    \n",
    "    data = requests.get(url).text\n",
    "    \n",
    "    soup = BeautifulSoup(data, 'html.parser')\n",
    "    \n",
    "    return soup"
   ]
  },
  {
   "cell_type": "code",
   "execution_count": null,
   "id": "18b2dff5",
   "metadata": {},
   "outputs": [],
   "source": [
    "for i in links_op:\n",
    "    print(i)\n",
    "    try:\n",
    "        soup = get_the_soup(i)\n",
    "        \n",
    "        brand = find_brand(soup)\n",
    "        \n",
    "        description = find_description(soup)\n",
    "        \n",
    "        \n",
    "        prices = find_price(soup)\n",
    "        \n",
    "        sizes = find_sizes(soup)\n",
    "        \n",
    "        infor = brand + description + sizes + prices\n",
    "        \n",
    "\n",
    "        \n",
    "        df.loc[len(df)] = infor\n",
    "    except Exception:\n",
    "        df.loc[len(df)] = [np.nan] * 9\n",
    "        "
   ]
  },
  {
   "cell_type": "code",
   "execution_count": 24,
   "id": "1e37a1a3",
   "metadata": {},
   "outputs": [],
   "source": [
    "for i in range(40,5090,40):\n",
    "    needed_links = find_links(i)\n",
    "    print(i)\n",
    "    \n",
    "    for j in needed_links:\n",
    "        try:\n",
    "            soup = get_the_soup(j)\n",
    "        \n",
    "            brand = find_brand(soup)\n",
    "        \n",
    "            description = find_description(soup)\n",
    "        \n",
    "        \n",
    "            prices = find_price(soup)\n",
    "        \n",
    "            sizes = find_sizes(soup)\n",
    "        \n",
    "            infor = brand + description + sizes + prices\n",
    "        \n",
    "            df.loc[len(df)] = infor\n",
    "        except Exception:\n",
    "            df.loc[len(df)] = [np.nan] * 9"
   ]
  },
  {
   "cell_type": "code",
   "execution_count": null,
   "id": "5c2eeea1",
   "metadata": {},
   "outputs": [],
   "source": []
  }
 ],
 "metadata": {
  "hide_input": false,
  "kernelspec": {
   "display_name": "Python 3 (ipykernel)",
   "language": "python",
   "name": "python3"
  },
  "language_info": {
   "codemirror_mode": {
    "name": "ipython",
    "version": 3
   },
   "file_extension": ".py",
   "mimetype": "text/x-python",
   "name": "python",
   "nbconvert_exporter": "python",
   "pygments_lexer": "ipython3",
   "version": "3.9.12"
  }
 },
 "nbformat": 4,
 "nbformat_minor": 5
}
